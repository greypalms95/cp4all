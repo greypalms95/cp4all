{
  "nbformat": 4,
  "nbformat_minor": 0,
  "metadata": {
    "colab": {
      "name": "Copy of Python03 - Loops.ipynb",
      "provenance": []
    },
    "kernelspec": {
      "name": "python3",
      "display_name": "Python 3"
    }
  },
  "cells": [
    {
      "cell_type": "markdown",
      "metadata": {
        "id": "F5WVWH3ouVfH"
      },
      "source": [
        "# **Loops / Repetition / Iteration**\n",
        "\n",
        "repeat a fixed pattern many times\n",
        "\n",
        "\n",
        "2 types of loops in Python\n",
        "\n",
        "*   for (fixed number of times)\n",
        "*   while (variable number of times, 0 or more)\n",
        "\n"
      ]
    },
    {
      "cell_type": "code",
      "metadata": {
        "id": "fTH5-pSNuOVx",
        "outputId": "28d7c004-334e-4e10-fb06-dcd1442f0d7e",
        "colab": {
          "base_uri": "https://localhost:8080/",
          "height": 188
        }
      },
      "source": [
        "# for (range)\n",
        "for i in range(10): # loop condition\n",
        "  print(\"Good morning!\") # loop body"
      ],
      "execution_count": null,
      "outputs": [
        {
          "output_type": "stream",
          "text": [
            "Good morning!\n",
            "Good morning!\n",
            "Good morning!\n",
            "Good morning!\n",
            "Good morning!\n",
            "Good morning!\n",
            "Good morning!\n",
            "Good morning!\n",
            "Good morning!\n",
            "Good morning!\n"
          ],
          "name": "stdout"
        }
      ]
    },
    {
      "cell_type": "code",
      "metadata": {
        "id": "3zIM09aSFuGM",
        "outputId": "8244285a-4031-44ad-a9b7-c509cac704a6",
        "colab": {
          "base_uri": "https://localhost:8080/",
          "height": 103
        }
      },
      "source": [
        "# for (print 1 to n)\n",
        "for i in range(0, 5): # range(5), if i < 5\n",
        "  print(i)\n",
        "  # i auto increment by 1"
      ],
      "execution_count": null,
      "outputs": [
        {
          "output_type": "stream",
          "text": [
            "0\n",
            "1\n",
            "2\n",
            "3\n",
            "4\n"
          ],
          "name": "stdout"
        }
      ]
    },
    {
      "cell_type": "code",
      "metadata": {
        "id": "GY8NBPWWHKir",
        "outputId": "4da0db79-c13e-4860-c1e6-443895166f30",
        "colab": {
          "base_uri": "https://localhost:8080/",
          "height": 34
        }
      },
      "source": [
        "# for (sum 1 to n) i.e. 1 + 2 + 3 + ... + n\n",
        "total = 0\n",
        "n = 100\n",
        "for i in range(1, n+1):\n",
        "  # total = total + i # 0 + 1, 1 + 2, 3 + 3, ...\n",
        "  total += i \n",
        "print(total)"
      ],
      "execution_count": null,
      "outputs": [
        {
          "output_type": "stream",
          "text": [
            "5050\n"
          ],
          "name": "stdout"
        }
      ]
    },
    {
      "cell_type": "code",
      "metadata": {
        "id": "uPs60uSXugpb"
      },
      "source": [
        "# for (iterable)\n",
        "# iterate over string\n"
      ],
      "execution_count": null,
      "outputs": []
    },
    {
      "cell_type": "code",
      "metadata": {
        "id": "FwNgjJmBGJzF",
        "outputId": "b7840c88-7e45-4eb4-a5da-92af417dabab",
        "colab": {
          "base_uri": "https://localhost:8080/",
          "height": 34
        }
      },
      "source": [
        "# for (with step)\n",
        "# all odd numbers between 1 to 10 inclusive\n",
        "# i = 1 to 10, auto increment by 2
        "\n",
        "for i in range(1, 11, 2):\n",
        "  print(i, end=' ')\n",
      ],
      "execution_count": null,
      "outputs": [
        {
          "output_type": "stream",
          "text": [
            "1 3 5 7 9 "
          ],
          "name": "stdout"
        }
      ]
    },
    {
      "cell_type": "code",
      "metadata": {
        "id": "d71_2jJ-GOq6",
        "outputId": "51ad0141-08b2-4b22-d2b0-eed5bfd5ded4",
        "colab": {
          "base_uri": "https://localhost:8080/",
          "height": 34
        }
      },
      "source": [
        "# for (count down)\n",
        "for i in range(9, 0, -2):\n",
        "  print(i, end=' ')"
      ],
      "execution_count": null,
      "outputs": [
        {
          "output_type": "stream",
          "text": [
            "9 7 5 3 1 "
          ],
          "name": "stdout"
        }
      ]
    },
    {
      "cell_type": "code",
      "metadata": {
        "id": "mR70NoG0u7BG",
        "outputId": "2b53964f-602b-42a6-90c8-d2a35b5e8691",
        "colab": {
          "base_uri": "https://localhost:8080/",
          "height": 34
        }
      },
      "source": [
        "# while (print 1 to n)\n",
        "i = 1 # initialise\n",
        "n = 10\n",
        "while i <= n: # loop condition\n",
        "  print(i, end=' ') # loop body\n",
        "  i = i + 1 # update loop control\n",
        "  # i += 1 "
      ],
      "execution_count": null,
      "outputs": [
        {
          "output_type": "stream",
          "text": [
            "1 2 3 4 5 6 7 8 9 10 "
          ],
          "name": "stdout"
        }
      ]
    },
    {
      "cell_type": "code",
      "metadata": {
        "id": "5tG8MrByHff8",
        "outputId": "75ee7cc2-4727-4f08-90a8-e9dc867b2b38",
        "colab": {
          "base_uri": "https://localhost:8080/",
          "height": 34
        }
      },
      "source": [
        "# while (sum 1 to n)\n",
        "i = 1\n",
        "n = 10\n",
        "total = 0\n",
        "while i <= n:\n",
        "  total = total + i # total += i\n",
        "  i = i + 1         # i += 1\n",
        "print(total)"
      ],
      "execution_count": null,
      "outputs": [
        {
          "output_type": "stream",
          "text": [
            "55\n"
          ],
          "name": "stdout"
        }
      ]
    },
    {
      "cell_type": "code",
      "metadata": {
        "id": "AcDQ8qngHhal",
        "outputId": "69a9c511-370c-456f-fe27-22c0aeaa77a6",
        "colab": {
          "base_uri": "https://localhost:8080/",
          "height": 274
        }
      },
      "source": [
        "# while (guessing game)\n",
        "import random\n",
        "\n",
        "# initialise\n",
        "lucky = random.randint(1,100)\n",
        "print(lucky)\n",
        "running = True\n",
        "\n",
        "# loop until guess is correct\n",
        "while running:\n",
        "  # get guess\n",
        "  guess = int(input(\"Enter your guess (1-100): \"))\n",
        "  if guess == lucky: # you are lucky\n",
        "    print(\"BINGO!\")\n",
        "    running = False\n",
        "  elif guess < lucky:\n",
        "    print(\"Guess higher\")\n",
        "  else: # guess > lucky  \n",
        "    print(\"Guess lower\")\n"
      ],
      "execution_count": null,
      "outputs": [
        {
          "output_type": "stream",
          "text": [
            "38\n",
            "Enter your guess (1-100): 50\n",
            "Guess lower\n",
            "Enter your guess (1-100): 25\n",
            "Guess higher\n",
            "Enter your guess (1-100): 37\n",
            "Guess higher\n",
            "Enter your guess (1-100): 44\n",
            "Guess lower\n",
            "Enter your guess (1-100): 40\n",
            "Guess lower\n",
            "Enter your guess (1-100): 39\n",
            "Guess lower\n",
            "Enter your guess (1-100): 38\n",
            "BINGO!\n"
          ],
          "name": "stdout"
        }
      ]
    },
    {
      "cell_type": "markdown",
      "metadata": {
        "id": "XKgu8eOxJyoY"
      },
      "source": [
        "## **Exercise: Be positive v1**\n",
        "\n",
        "Write a program to prompt the user for x positive integers, one at a time. Compute and output the sum of all x integers entered.\n",
        "\n",
        "Enhance your program to also compute and output the average of the x positive integers."
      ]
    },
    {
      "cell_type": "code",
      "metadata": {
        "id": "0msfEqHKHycq",
        "outputId": "f07c8e2e-ac9a-494f-a09c-d3cdc68efaf6",
        "colab": {
          "base_uri": "https://localhost:8080/",
          "height": 120
        }
      },
      "source": [
        "# initialise \n",
        "x = int(input(\"Enter x: \"))\n",
        "total = 0\n",
        "\n",
        "# loop for x positive integers\n",
        "for i in range(x):\n",
        "  num = int(input(\"Enter positive integer: \"))\n",
        "  total += num # total = total + num7\n",
        "\n",
        "# display results  \n",
        "print(total)\n",
        "print(total / x)\n"
      ],
      "execution_count": null,
      "outputs": [
        {
          "output_type": "stream",
          "text": [
            "Enter x: 3\n",
            "Enter positive integer: 7\n",
            "Enter positive integer: 8\n",
            "Enter positive integer: 9\n",
            "24\n",
            "8.0\n"
          ],
          "name": "stdout"
        }
      ]
    },
    {
      "cell_type": "markdown",
      "metadata": {
        "id": "Nb-fjjjQKlV4"
      },
      "source": [
        "## **Exercise: Be positive v2**\n",
        "\n",
        "Write a program to prompt the user for x positive integers, one at a time, until the user terminates with -1. Compute and output the sum of all x integers entered.\n",
        "\n",
        "Enhance your program to also the largest and smallest numbers entered."
      ]
    },
    {
      "cell_type": "code",
      "metadata": {
        "id": "gyl8_Yh0LI6u",
        "outputId": "fa9f5ff6-6ff7-4a9a-a3d3-f161a49c6e1b",
        "colab": {
          "base_uri": "https://localhost:8080/",
          "height": 137
        }
      },
      "source": [
        "# assume valid positive range is 1 to 100\n",
        "# initialise\n",
        "total = 0\n",
        "count = 0\n",
        "highest = 0\n",
        "lowest = 101\n",
        "\n",
        "# loop until -1\n",
        "num = int(input(\"Enter positive number: \"))\n",
        "while num != -1:\n",
        "  if num > 0:\n",
        "    total += num\n",
        "    count += 1\n",
        "    if num > highest:\n",
        "      highest = num\n",
        "    if num < lowest:\n",
        "      lowest = num  \n",
        "  num = int(input(\"Enter positive number: \"))    \n",
        "\n",
        "# display results\n",
        "print(total)\n",
        "print(f\"Highest: {highest}\")\n",
        "print(f\"Lowest: {lowest}\")\n"
      ],
      "execution_count": null,
      "outputs": [
        {
          "output_type": "stream",
          "text": [
            "Enter positive number: 35\n",
            "Enter positive number: 88\n",
            "Enter positive number: 57\n",
            "Enter positive number: -1\n",
            "180\n",
            "Highest: 88\n",
            "Lowest: 35\n"
          ],
          "name": "stdout"
        }
      ]
    },
    {
      "cell_type": "code",
      "metadata": {
        "id": "Ppvm2EMDtVj0",
        "outputId": "2e3fcee7-a751-40f5-da53-f12f5f7c9d5b",
        "colab": {
          "base_uri": "https://localhost:8080/",
          "height": 446
        }
      },
      "source": [
        "# Functions \n",
        "# A function is a reusable subprogram that performs a well defined task\n",
        "\n",
        "# Examples: print(), input(), range(n), randint(low,high)\n",
        "\n",
        "def menu():\n",
        "  print(\"(1) Add\")\n",
        "  print(\"(2) Update\")\n",
        "  print(\"(3) Delete\")\n",
        "  print(\"(4) Search\")\n",
        "  print(\"(0) Quit\")\n",
        "\n",
        "option = \"\"\n",
        "while option != '0':\n",
        "  menu()\n",
        "  option = input(\"Enter option: \")\n",
        "print(\"Bye\")\n"
      ],
      "execution_count": null,
      "outputs": [
        {
          "output_type": "stream",
          "text": [
            "(1) Add\n",
            "(2) Update\n",
            "(3) Delete\n",
            "(4) Search\n",
            "(0) Quit\n",
            "Enter option: 1\n",
            "(1) Add\n",
            "(2) Update\n",
            "(3) Delete\n",
            "(4) Search\n",
            "(0) Quit\n",
            "Enter option: 3\n",
            "(1) Add\n",
            "(2) Update\n",
            "(3) Delete\n",
            "(4) Search\n",
            "(0) Quit\n",
            "Enter option: 2\n",
            "(1) Add\n",
            "(2) Update\n",
            "(3) Delete\n",
            "(4) Search\n",
            "(0) Quit\n",
            "Enter option: 0\n",
            "Bye\n"
          ],
          "name": "stdout"
        }
      ]
    },
    {
      "cell_type": "code",
      "metadata": {
        "id": "Yc0ZLCGQxRo6",
        "outputId": "46e4be79-3d12-4ed2-d310-61a563d44bf8",
        "colab": {
          "base_uri": "https://localhost:8080/",
          "height": 67
        }
      },
      "source": [
        "# alternative for loop\n",
        "name = \"Ali\"\n",
        "for char in name:\n",
        "  print(char)"
      ],
      "execution_count": null,
      "outputs": [
        {
          "output_type": "stream",
          "text": [
            "A\n",
            "l\n",
            "i\n"
          ],
          "name": "stdout"
        }
      ]
    }
  ]
}
